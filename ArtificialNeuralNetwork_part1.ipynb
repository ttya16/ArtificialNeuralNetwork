{
  "nbformat": 4,
  "nbformat_minor": 0,
  "metadata": {
    "colab": {
      "name": "ArtificialNeuralNetwork_part1.ipynb",
      "version": "0.3.2",
      "provenance": [],
      "collapsed_sections": [],
      "include_colab_link": true
    },
    "kernelspec": {
      "name": "python3",
      "display_name": "Python 3"
    },
    "accelerator": "GPU"
  },
  "cells": [
    {
      "cell_type": "markdown",
      "metadata": {
        "id": "view-in-github",
        "colab_type": "text"
      },
      "source": [
        "<a href=\"https://colab.research.google.com/github/ttya16/ArtificialNeuralNetwork/blob/master/ArtificialNeuralNetwork_part1.ipynb\" target=\"_parent\"><img src=\"https://colab.research.google.com/assets/colab-badge.svg\" alt=\"Open In Colab\"/></a>"
      ]
    },
    {
      "cell_type": "markdown",
      "metadata": {
        "id": "TpNBiGhbEdb3",
        "colab_type": "text"
      },
      "source": [
        "# 人工ニューラルネット\n",
        "\n",
        "・人工ニューラルネットの考えは古くからあり、初めて考案されたのは1943年\"A Logical Calculus of Ideas Immanent in Nervous Activity\"(W. McCulloch & W. Pitts)によるもの。\n",
        "\n",
        "・動物の脳の神経が共同作業で命題論理を駆使して複雑な計算を実行している仕組みをシンプルにしたモデル。\n",
        "\n",
        "・過去に2度注目される時代があったが、当時は期待された程の性能を発揮できなかったことや、他の機械学習モデルの方が優秀だったこともありなかなか陽の目を見ることがなかった。\n",
        "\n",
        "・現在ニューラルネットは3度目のブームを迎えているが、果たして長続きするのか？\n",
        "\n",
        "→以下の理由により今回は長続きしそうである\n",
        "\n",
        "\n",
        "1.   ニューラルネットの学習に必要なデータが膨大に存在する。\n",
        "2.   計算機の性能向上により、大規模なニューラルネットを合理的な時間内に学習させられるようになった。\n",
        "3.   学習アルゴリズムの改良もされ続けており、地味だが大きく貢献している。\n",
        "4.   ニューラルネットの理論限界は実務上はほぼ無害に等しいことが明らかになった。（局所最適解に陥りやすい問題とかあったが、実際にはそうなるのは稀であるし、その局所最適解も全体の最適解にかなり近いものであることがほとんどであるらしい）\n",
        "5.  ブームがきて、資金調達→設備投資などの環境改善→より性能の良い製品→更に関心を産み、新たに資金調達できる　といった良い循環に入ってきている。\n",
        "\n",
        "\n",
        "\n",
        "※McCulloch & Pittsの提案したモデルは、1個以上のバイナリ入力（0 or 1）と1個のバイナリ出力を持ち、論理演算AND、OR、NOTと恒等写像を組み合わせて様々な論理演算を計算できる。\n",
        "\n",
        "\n",
        "\n"
      ]
    },
    {
      "cell_type": "markdown",
      "metadata": {
        "id": "F2HcGkdGJLue",
        "colab_type": "text"
      },
      "source": [
        "## パーセプトロン\n",
        "・最も単純な人工ニューロンで、1957年フランク・ローゼンブラット氏によって考案された。\n",
        "\n",
        "・LTU(線形閾値素子)と呼ばれるものが構成素子となっている。\n",
        "\n",
        "・入力はバイナリではなく数値で、重みづけされた後にステップ関数を適用して結果を出力する。\n"
      ]
    },
    {
      "cell_type": "code",
      "metadata": {
        "id": "mTlT2-e_ED3v",
        "colab_type": "code",
        "outputId": "4d00d7c3-6eab-47c2-8202-7dad796be44c",
        "colab": {
          "base_uri": "https://localhost:8080/",
          "height": 105
        }
      },
      "source": [
        "import numpy as np\n",
        "from sklearn.datasets import load_iris\n",
        "from sklearn.linear_model import Perceptron\n",
        "from sklearn.model_selection import train_test_split\n",
        "from sklearn.metrics import f1_score\n",
        "\n",
        "iris = load_iris()\n",
        "X = iris.data[:, (2, 3)] #petal length & width\n",
        "y = (iris.target == 0).astype(np.int) #setona or not setona\n",
        "\n",
        "X_train, X_test, y_train, y_test = train_test_split(X, y, test_size=0.2, random_state=42)\n",
        "\n",
        "print(X_train.shape)\n",
        "per_clf = Perceptron(random_state=42)\n",
        "per_clf.fit(X_train, y_train)\n",
        "\n",
        "y_pred = per_clf.predict(X_test)\n",
        "print(f1_score(y_test, y_pred))\n"
      ],
      "execution_count": 0,
      "outputs": [
        {
          "output_type": "stream",
          "text": [
            "(120, 2)\n",
            "1.0\n"
          ],
          "name": "stdout"
        },
        {
          "output_type": "stream",
          "text": [
            "/usr/local/lib/python3.6/dist-packages/sklearn/linear_model/stochastic_gradient.py:166: FutureWarning: max_iter and tol parameters have been added in Perceptron in 0.19. If both are left unset, they default to max_iter=5 and tol=None. If tol is not None, max_iter defaults to max_iter=1000. From 0.21, default max_iter will be 1000, and default tol will be 1e-3.\n",
            "  FutureWarning)\n"
          ],
          "name": "stderr"
        }
      ]
    },
    {
      "cell_type": "code",
      "metadata": {
        "id": "-NESIFvjH8-7",
        "colab_type": "code",
        "outputId": "ece43d14-335d-4dc0-8bb0-6d6b4bfec30b",
        "colab": {
          "base_uri": "https://localhost:8080/",
          "height": 241
        }
      },
      "source": [
        "#kerasによる実装\n",
        "from keras.models import Sequential\n",
        "from keras.layers import Dense\n",
        "\n",
        "model = Sequential()\n",
        "model.add(Dense(2, input_dim=2, kernel_initializer='random_uniform'))\n",
        "model.summary()"
      ],
      "execution_count": 0,
      "outputs": [
        {
          "output_type": "stream",
          "text": [
            "WARNING:tensorflow:From /usr/local/lib/python3.6/dist-packages/tensorflow/python/framework/op_def_library.py:263: colocate_with (from tensorflow.python.framework.ops) is deprecated and will be removed in a future version.\n",
            "Instructions for updating:\n",
            "Colocations handled automatically by placer.\n",
            "_________________________________________________________________\n",
            "Layer (type)                 Output Shape              Param #   \n",
            "=================================================================\n",
            "dense_1 (Dense)              (None, 2)                 6         \n",
            "=================================================================\n",
            "Total params: 6\n",
            "Trainable params: 6\n",
            "Non-trainable params: 0\n",
            "_________________________________________________________________\n"
          ],
          "name": "stdout"
        }
      ]
    },
    {
      "cell_type": "markdown",
      "metadata": {
        "id": "Fr7Y6e-SMEtW",
        "colab_type": "text"
      },
      "source": [
        "## MLP & BackPropagation\n",
        "### MLP\n",
        "・パーセプトロンは有能に思えたが、ごく単純な問題（例えばXORなど）を解決できないなどの問題もあった。\n",
        "\n",
        "・この問題は複数のパーセプトロンを重ねることによって対応できることが判明した。これを多層パーセプトロン（Multi-Layer Perceptron, MLP）と呼ぶ。\n",
        "\n",
        "・入力層と出力層の間の層は隠れ層と呼ばれる。複数の隠れ層をもつニューラルネットワークを、\n",
        "深層ニューラルネットワーク(Deep Neural Network, DNN)という。\n",
        "\n",
        "\n",
        "### BackPropagation\n",
        "・MLPの学習方法については長年模索が続いたが、1986年にD. RumelhartらによりBackPropagation(誤差逆伝播法)というアルゴリズムが考案された。\n",
        "\n",
        "・リバースモード自動微分を用いた勾配急下法と直感的に考えてもらって良い。\n",
        "\n",
        "・BackPropagatioinは何をしているか\n",
        "\n",
        "1.   学習データがネットワークに与えられて、各層におけるニューロンの出力を計算する。\n",
        "（前進パス、ForwardProp）\n",
        "2.   ネットワークの出力誤差を計算し、出力層から今度はネットワークを逆に辿りながら隠れ層のニューロンの出力結果が誤差にどの程度影響を与えたか(誤差勾配)を計算する。\n",
        "3.    入力層まで達したら、誤差を小さくするように2.で計算した誤差勾配に基づいて各層の重みを調整する。\n",
        "\n"
      ]
    },
    {
      "cell_type": "markdown",
      "metadata": {
        "id": "VZZimH1lQWUg",
        "colab_type": "text"
      },
      "source": [
        "## 活性化関数の導入\n",
        "・BackPropagationをうまく動かすために、今までステップ関数を適用していたのを別の活性化関数に置き換えた。\n",
        "\n",
        "・ステップ関数は微分不可能なので勾配の計算には向かない。\n",
        "\n",
        "・代わりに導入したのがシグモイド関数と呼ばれるもの。\n",
        "\n",
        "・他にも有効な活性化関数として双曲線正接（hyperbolic tangent, tanh）やReLUがある\n",
        "\n",
        "###なぜ活性化関数？\n",
        "・活性化関数なしのNNはどれだけ多層にしたとて、表現力は1層のNNと変わらない。\n",
        "\n",
        "・1層のネットワークは線形モデルなので、単純にそれを多層にしたところであまり意味はない。\n",
        "\n",
        "・活性化関数を通して、ネットワークに非線形性を与える。\n",
        "\n",
        "\n",
        "### 万能近似定理 Universal Approximation Theorem\n",
        "\n",
        "定数でない連続な有界単調増加な関数を隠れ層の出力に使った3層以上のニューラルネットワークは、任意の連続関数を任意の精度で表現可能である。\n",
        "\n",
        "\n",
        "簡単に言うと、非線形な隠れユニットを使用していれば3層のネットワークで大体の問題は解けるということ。\n",
        "\n",
        "※隠れ層のユニット数が指数的に大きくなるし、学習できる保障もない"
      ]
    },
    {
      "cell_type": "code",
      "metadata": {
        "id": "v9H4M-3gLSz6",
        "colab_type": "code",
        "outputId": "247b59fa-6ea5-4869-da5f-740ae8ccaba1",
        "colab": {
          "base_uri": "https://localhost:8080/",
          "height": 68
        }
      },
      "source": [
        "import numpy as np\n",
        "#sigmoid\n",
        "def sigmoid(x):\n",
        "  return 1./(1. + np.exp(-x))\n",
        "\n",
        "\n",
        "#tanh\n",
        "def tanh(x):\n",
        "  return (np.exp(x) - np.exp(-x))/(np.exp(x) + np.exp(-x))\n",
        "#np.tanh(x)\n",
        "\n",
        "#ReLU\n",
        "def relu(x):\n",
        "  return np.maximum(0, x)\n",
        "\n",
        "\n",
        "#softmax\n",
        "def softmax(x):\n",
        "  return np.exp(x)/np.sum(np.exp(x))\n",
        "\n",
        "\n",
        "x = np.array([-0.5, 0.0, 0.5])\n",
        "\n",
        "print('sigmoid:',sigmoid(x))\n",
        "print('tanh:', tanh(x))\n",
        "print('ReLU:', relu(x))"
      ],
      "execution_count": 0,
      "outputs": [
        {
          "output_type": "stream",
          "text": [
            "sigmoid: [0.37754067 0.5        0.62245933]\n",
            "tanh: [-0.46211716  0.          0.46211716]\n",
            "ReLU: [0.  0.  0.5]\n"
          ],
          "name": "stdout"
        }
      ]
    },
    {
      "cell_type": "markdown",
      "metadata": {
        "id": "gKtcSEJJkEXz",
        "colab_type": "text"
      },
      "source": [
        "・MLPは個々の出力がバイナリになるため、分類問題に適していると言える。\n",
        "\n",
        "・複数クラスの中からの分類をするときは、出力層の活性化関数をsoftmax関数にすれば良い。\n",
        "\n",
        "・信号の流れが入力層→出力層の一方通行になっているが、\n",
        "\n",
        "このようなアーキテクチャのネットワークを**順伝播型ネットワーク（Feedforward neural network, FNN）**と呼ぶ。"
      ]
    },
    {
      "cell_type": "code",
      "metadata": {
        "id": "WYI93YauaaYe",
        "colab_type": "code",
        "colab": {}
      },
      "source": [
        "#２層の順伝播型ネットワークの実装 from scratch\n",
        "import numpy as np\n",
        "\n",
        "#Sigmoid layer\n",
        "class Sigmoid:\n",
        "  def __init__(self):\n",
        "    self.params=[]\n",
        "    \n",
        "  def forward(self, x):\n",
        "    return sigmoid(x)\n",
        "\n",
        "#FC layer\n",
        "class Affine:\n",
        "  def __init__(self, W, b):\n",
        "    self.params = [W, b]\n",
        "    \n",
        "  def forward(self, x):\n",
        "    W, b = self.params\n",
        "    return np.dot(x, W) + b\n",
        "\n",
        "  \n",
        "class TwoLayerNet:\n",
        "  def __init__(self, input_size, hidden_size, output_size):\n",
        "    I, H, O = input_size, hidden_size, output_size\n",
        "    \n",
        "    #initialize parameters(W and b)\n",
        "    W1 = np.random.randn(I, H)\n",
        "    b1 = np.random.randn(H)\n",
        "    W2 = np.random.randn(H, O)\n",
        "    b2 = np.random.randn(O)\n",
        "    \n",
        "    #create model layers in a list\n",
        "    self.layers =[\n",
        "        Affine(W1, b1),\n",
        "        Sigmoid(),\n",
        "        Affine(W2, b2)\n",
        "    ]\n",
        "    \n",
        "    #save parameters of every layer in a list\n",
        "    self.params=[]\n",
        "    for layer in self.layers:\n",
        "      self.params += layer.params\n",
        "      \n",
        "  def predict(self, X):\n",
        "    for layer in self.layers:\n",
        "      X = layer.forward(X)\n",
        "    return X\n",
        "    \n",
        "    "
      ],
      "execution_count": 0,
      "outputs": []
    },
    {
      "cell_type": "code",
      "metadata": {
        "id": "1gcW7o_jTbxa",
        "colab_type": "code",
        "outputId": "5166955d-8f7e-48aa-cdec-b346dc4d3c6a",
        "colab": {
          "base_uri": "https://localhost:8080/",
          "height": 51
        }
      },
      "source": [
        "x = np.random.randn(10, 2)\n",
        "model = TwoLayerNet(2, 4, 3)\n",
        "y = model.predict(x)\n",
        "print(x[0])\n",
        "print(y[0])"
      ],
      "execution_count": 0,
      "outputs": [
        {
          "output_type": "stream",
          "text": [
            "[-0.90503698  0.96045752]\n",
            "[ 0.54018827 -0.18485194 -1.94234724]\n"
          ],
          "name": "stdout"
        }
      ]
    },
    {
      "cell_type": "code",
      "metadata": {
        "id": "savYf-xAteJs",
        "colab_type": "code",
        "outputId": "92ac7873-73c0-49b9-9385-b4e29c5b374f",
        "colab": {
          "base_uri": "https://localhost:8080/",
          "height": 156
        }
      },
      "source": [
        "#MNIST\n",
        "from __future__ import print_function\n",
        "\n",
        "from keras.datasets import mnist\n",
        "from keras.models import Sequential\n",
        "from keras.layers import Dense, Activation\n",
        "from keras.optimizers import SGD\n",
        "from keras.utils import np_utils\n",
        "\n",
        "np.random.seed(1671) #for reproductivity\n",
        "\n",
        "NB_EPOCH = 200\n",
        "BATCH_SIZE = 128\n",
        "VERBOSE = 1\n",
        "NB_CLASSES = 10\n",
        "OPTIMIZER = SGD()\n",
        "N_HIDDEN = 128\n",
        "VALIDATION_SPLIT = 0.2\n",
        "\n",
        "(X_train, y_train), (X_test, y_test) = mnist.load_data()\n",
        "RESHAPED = 28 * 28\n",
        "\n",
        "print(X_train.shape)\n",
        "print(X_test.shape)\n"
      ],
      "execution_count": 0,
      "outputs": [
        {
          "output_type": "stream",
          "text": [
            "WARNING:tensorflow:From /usr/local/lib/python3.6/dist-packages/tensorflow/python/framework/op_def_library.py:263: colocate_with (from tensorflow.python.framework.ops) is deprecated and will be removed in a future version.\n",
            "Instructions for updating:\n",
            "Colocations handled automatically by placer.\n",
            "Downloading data from https://s3.amazonaws.com/img-datasets/mnist.npz\n",
            "11493376/11490434 [==============================] - 1s 0us/step\n",
            "(60000, 28, 28)\n",
            "(10000, 28, 28)\n"
          ],
          "name": "stdout"
        }
      ]
    },
    {
      "cell_type": "code",
      "metadata": {
        "id": "7wptho3ya2Xv",
        "colab_type": "code",
        "colab": {}
      },
      "source": [
        "X_train = X_train.reshape(60000, RESHAPED)\n",
        "X_test = X_test.reshape(10000, RESHAPED)\n",
        "X_train = X_train.astype('float32')\n",
        "X_test = X_test.astype('float32')\n",
        "\n",
        "#normalize\n",
        "X_train /= 255.\n",
        "X_test /= 255.\n",
        "\n",
        "#to_categorical\n",
        "y_train = np_utils.to_categorical(y_train, NB_CLASSES)\n",
        "y_test = np_utils.to_categorical(y_test, NB_CLASSES)"
      ],
      "execution_count": 0,
      "outputs": []
    },
    {
      "cell_type": "code",
      "metadata": {
        "id": "7ej4lwwVbkSV",
        "colab_type": "code",
        "outputId": "5197f1be-0a2e-4651-ec6c-fc183ddd198a",
        "colab": {
          "base_uri": "https://localhost:8080/",
          "height": 224
        }
      },
      "source": [
        "model = Sequential()\n",
        "model.add(Dense(NB_CLASSES, input_shape=(RESHAPED,)))\n",
        "model.add(Activation('softmax'))\n",
        "model.summary()"
      ],
      "execution_count": 0,
      "outputs": [
        {
          "output_type": "stream",
          "text": [
            "_________________________________________________________________\n",
            "Layer (type)                 Output Shape              Param #   \n",
            "=================================================================\n",
            "dense_1 (Dense)              (None, 10)                7850      \n",
            "_________________________________________________________________\n",
            "activation_1 (Activation)    (None, 10)                0         \n",
            "=================================================================\n",
            "Total params: 7,850\n",
            "Trainable params: 7,850\n",
            "Non-trainable params: 0\n",
            "_________________________________________________________________\n"
          ],
          "name": "stdout"
        }
      ]
    },
    {
      "cell_type": "code",
      "metadata": {
        "id": "AARrxqszdrhc",
        "colab_type": "code",
        "colab": {}
      },
      "source": [
        "#compile時に損失関数、optimizerを指定\n",
        "model.compile(optimizer = 'sgd', loss='categorical_crossentropy', metrics=['accuracy'])"
      ],
      "execution_count": 0,
      "outputs": []
    },
    {
      "cell_type": "markdown",
      "metadata": {
        "id": "hHmGfkwd2sgs",
        "colab_type": "text"
      },
      "source": [
        "## ニューラルネットワークのハイパーパラメータ\n",
        "・NNはあらゆるネットワークトポロジー（ニューロンの接続方法）が利用でき、層の数やニューロンの数、活性化関数のタイプ、重みの初期化方法等、色々な設定項目がある。\n",
        "\n",
        "・NNは設定項目が多い＝柔軟性が高いのがメリットではあるが、逆にあらゆる設定項目を適切に調整するのは非常に難しいという点を考えると欠点でもある。\n",
        "\n",
        "・グリッドサーチと交差検証では対応に時間がかかりすぎるくらいハイパーパラメータの数が多い\n",
        "\n",
        "###隠れ層の数\n",
        "・深いネットワークは浅いネットワークよりもパラメータ効率が高い（要するに深いネットワークの方が少ないニューロンで複雑なモデルを表現できる）\n",
        "\n",
        "・ネットワークの下位層では低水準の構造（図形の一部分の線分など）、中間層では低水準構造を組み合わせた中間レベルの構造（円や四角形など）、上位層では中間レベルの構造を組み合わせた高水準な構造（顔など）をモデリングする　といったような階層構造になるため効率が良い\n",
        "\n",
        "・未知のデータに対する汎化性能もよくなる。すでに学習済みのネットワークの下位層を似たような別のモデル用に転移して再利用することが出来てしまうため、学習の手間が大幅に省ける。\n",
        "\n",
        "###隠れ層に含まれるニューロンの数\n",
        "・入力層と出力層のニューロンの数は扱うデータとターゲットによって予め決まっているが、隠れ層のニューロンについては自由に調整できる。普通は層ごとに数が減って漏斗のような形になる。\n",
        "\n",
        "・実際適切なニューロンの数を見つけるのは難しいので、Overfittingするまで適当にニューロン数を増やしてみるか、予め多めに設定しておいてDropoutを挟んで減らして調整する　といったような方法が考えられる。\n",
        "\n",
        "\n",
        "###活性化関数\n",
        "・隠れ層の活性化関数はReLUがほとんどである。（理由はなんとなくしかわかっていないが、他の活性化関数よりも計算にかかる時間が速い、かつ大きな値に大してもplateauにならない　といった利点によると考えられる）\n",
        "\n",
        "・出力層の活性化関数はバイナリクラス分類ならsigmoid、多クラス分類ならsoftmax、回帰なら活性化関数なし（恒等写像）　とするのが通常の方法である。"
      ]
    },
    {
      "cell_type": "markdown",
      "metadata": {
        "id": "TatIb2c4YLLz",
        "colab_type": "text"
      },
      "source": [
        "# DNNの訓練\n",
        "非常に深いDNNを用いてより多くの特徴量をもつデータに対して多数のクラス分類タスクを実行しなければならない　といった話になってくると、以下のような問題に直面するだろう。\n",
        "\n",
        "\n",
        "*   下位層が非常に訓練しづらくなる**勾配消失**問題、または関連する**勾配爆発**問題\n",
        "*   大規模ネットワークの学習時間の長さ（非常に長い）\n",
        "*   パラメータの多さによる過学習の発生しやすさ\n",
        "\n",
        "これらの問題を解決するための様々なアプローチを挙げる。\n",
        "\n"
      ]
    },
    {
      "cell_type": "markdown",
      "metadata": {
        "id": "Os5GvHX7tfyB",
        "colab_type": "text"
      },
      "source": [
        "## 勾配消失/爆発　とは\n",
        "DNNではBackPropagationによってコスト関数の誤差勾配を出力層から入力層まで伝えて、パラメータの更新を行う。ところが多層のネットワークでは下位層に行けば行くほど勾配が緩やかになり、勾配急下法によるパラメータの更新が十分になされない（ほとんど変化しない）。よって最適解にたどり着かないまま更新が止まってしまうという状況になってしまうのだ。この問題を**勾配消失**という。\n",
        "\n",
        "またこれとは逆に、勾配が大きくなりすぎて各層のパラメータが更新されすぎてしまい、コスト関数の値が収束せずに発散してしまうことも起こりうる。この問題を**勾配爆発**という。\n",
        "\n",
        "この問題は経験的に観測されていたが、詳しいことがわかったのは2010年Xavier Glorotらによる\"Understanding the Difficulty of Training Deep Feedforward Neural Networks\"からで、シグモイド活性化関数や重みの初期化方法に問題があるという指摘がなされた。\n",
        "\n",
        "シグモイド関数は入力値の絶対値が大きいと1or-1で飽和して、誤差逆伝播の処理によって伝えられる勾配がほぼなくなってしまい、層が進むにつれてわずかな勾配が更に小さくなってしまい消えて行く。"
      ]
    },
    {
      "cell_type": "markdown",
      "metadata": {
        "id": "CFYNR8ZTxmXB",
        "colab_type": "text"
      },
      "source": [
        "## Xavierの初期値、Heの初期値\n",
        "・層に出入りする信号がなくなったり、爆発したり、飽和するのは困るので、それなら入出力の信号とその勾配の分散を等しくなるようにしてやれば良いのでは？という発想\n",
        "\n",
        "・Xavierの初期値ではシグモイド関数の場合は以下のように分散を設定して無作為に重みを初期化すると良いらしい。（詳しくは論文を読むべし）\n",
        "$$\n",
        "平均：0\\\\標準偏差：\\sigma = \\sqrt{\\frac{2}{n_{inputs} + n_{outputs}}}\\\\\n",
        "の正規分布\n",
        "$$\n",
        "または、\n",
        "\n",
        "$$\n",
        "r = \\sqrt{\\frac{6}{n_{inputs} + n_{outputs}}}\\\\\n",
        "とした時の-r〜+rまでの一様分布\n",
        "$$\n",
        "\n",
        "\n",
        "・他の活性化関数に対してもそれぞれ初期値の設定方法が提案されており、中でもよく使うReLUに対する初期値はHeの初期値を用いると良い\n",
        "\n",
        "\n",
        "・kerasだとmodel.add(Dense(kernel_initializer='.....'))\n",
        "の部分で初期化法を設定することができるみたい。"
      ]
    },
    {
      "cell_type": "markdown",
      "metadata": {
        "id": "FjLvrDH55nlr",
        "colab_type": "text"
      },
      "source": [
        "## 活性化関数(ReLU, leakyReLU, ELU)\n",
        "・シグモイド関数に問題があるのであれば、他に良い活性化関数を見つけなければならない。\n",
        "\n",
        "・ReLUがはるかに優れていることがわかった。が、理論上は以下のような問題も残っている。\n",
        "*   ニューロンの入力加重総和が負の値になる時、ReLUは0を出力してしまい勾配も0なので、こうなると0しか出力しなくなってしまう（実質的にニューロンが死んでしまう）。\n",
        "\n",
        "・そのため改良版としてleaky ReLUなどの活性化関数も考案されている。\n",
        "$$\n",
        "LeakyReLU_\\alpha(z) = max(\\alpha z, z)\\\\\n",
        "\\alpha = 0.01　など\n",
        "$$\n",
        "\n",
        "\n",
        "・2015年にはELU(exponential linear unit)という活性化関数も考案され、ReLUよりも高い性能であることが示された。\n",
        "\n",
        "$$\n",
        "ELU_\\alpha(z) = \\begin{cases}\n",
        "\\alpha(exp(z) - 1) \\quad( z<0)\\\\\n",
        "z \\quad ( z\\geqq 0)\\\\\n",
        "\\end{cases}\n",
        "$$"
      ]
    },
    {
      "cell_type": "code",
      "metadata": {
        "id": "QXgMSwF3AKd9",
        "colab_type": "code",
        "outputId": "9428ef5d-e313-4842-c761-8253a84d8b96",
        "colab": {
          "base_uri": "https://localhost:8080/",
          "height": 347
        }
      },
      "source": [
        "#ReLU, leakyReLU, ELU\n",
        "import numpy as np\n",
        "import matplotlib.pyplot as plt\n",
        "\n",
        "def ReLU(z):\n",
        "  return np.maximum(0, z)\n",
        "\n",
        "def leakyReLU(z, alpha=0.01):\n",
        "  return np.maximum(alpha*z, z)\n",
        "\n",
        "def ELU(z, alpha=1):\n",
        "  if z < 0:\n",
        "    return alpha*(np.exp(z) - 1)\n",
        "  else:\n",
        "    return z\n",
        "\n",
        "\n",
        "X = np.linspace(-1, 1, 100)\n",
        "y_relu = [ReLU(x) for x in X]\n",
        "y_leakyrelu = [leakyReLU(x, alpha=0.1) for x in X]\n",
        "y_elu = [ELU(x) for x in X]\n",
        "\n",
        "plt.plot(X, y_relu, color='k', label='ReLU')\n",
        "plt.plot(X, y_leakyrelu, color='r', linestyle='dashed', label='leakyReLU')\n",
        "plt.plot(X, y_elu, color='b', linestyle='dashdot', label='ELU')\n",
        "plt.legend()\n",
        "plt.show()"
      ],
      "execution_count": 0,
      "outputs": [
        {
          "output_type": "display_data",
          "data": {
            "image/png": "[encoded data removed]",
            "text/plain": [
              "<Figure size 576x396 with 1 Axes>"
            ]
          },
          "metadata": {
            "tags": []
          }
        }
      ]
    },
    {
      "cell_type": "markdown",
      "metadata": {
        "id": "NsbAR8eFFHsX",
        "colab_type": "text"
      },
      "source": [
        "## BatchNormalization\n",
        "\n",
        "###mini batch学習\n",
        "学習データがN個あった時、N個全てを使って損失を計算して重みを更新する方法をBatch学習という。\n",
        "\n",
        "それに対して、N個のデータからランダムにn(<N)個選び、そのn個に対して損失を計算する方法をmini batch学習という。\n",
        "メリットとしては、データn個に対して損失を計算して重みを更新して行くので、その度に損失関数の形状が変わっていき、局所解に陥りにくくなる。\n",
        "また、1回の計算コストもBatch学習に比べて小さいので、計算も高速化させつつ正しい解へ辿り着きやすくなることが見込まれる。\n",
        "\n",
        "\n",
        "### モチベーション\n",
        "He, Xavierの初期値を導入すれば学習開始時には勾配消失/爆発の問題は解消されているが、学習過程ではわからない。\n",
        "2015年S.Ioffe, C.Szegedyらにより、勾配消失/爆発のみならず、学習過程で変化する各層のパラメータの影響により、各層への入力分布が変化していく問題（**内部共変量シフト**と呼ぶ）があると指摘され、その対策としてBatchNormalizationという方法が提案された。\n",
        "\n",
        "各層において活性化関数実行直前に、入力に対して0を中心としたセンタリングと正規化を行う。\n",
        "\n",
        "\n",
        "\n",
        "論文:[BatchNormalization](https://arxiv.org/pdf/1502.03167.pdf)"
      ]
    },
    {
      "cell_type": "markdown",
      "metadata": {
        "id": "8dtGM-viKKDE",
        "colab_type": "text"
      },
      "source": [
        "## 勾配クリッピング\n",
        "・勾配降下法において、更新時に大きすぎる変化があった場合はあえて更新幅を抑えるというテクニック。勾配爆発対策。\n",
        "\n",
        "・BatchNormalizationの方が人気だが、RNNなどではいまだに役に立つテクニックなので知っておいて損はないそう。\n",
        "\n",
        "\n",
        "論文:[On the difficulty of training recurrent neural networks  R.Pascanu et al.](http://proceedings.mlr.press/v28/pascanu13.pdf)"
      ]
    },
    {
      "cell_type": "markdown",
      "metadata": {
        "id": "cI99-oMMMf79",
        "colab_type": "text"
      },
      "source": [
        "## 転移学習(Transfer Learning)\n",
        "・大規模なDNNに取り掛かるにあたって、1からモデルを構築して学習させるのも良いが、果たしてそんな時間があるのか？\n",
        "\n",
        "・似たようなタスクをこなしているNNモデルがあれば、その下位層のネットワークを流用させてもらうということも可能で、そのほうが学習の手間が大幅に省けて良い。\n",
        "これを**転移学習**という。(実装はCNNのところでやる)\n"
      ]
    },
    {
      "cell_type": "markdown",
      "metadata": {
        "id": "HM82pmlSRnrm",
        "colab_type": "text"
      },
      "source": [
        "Part2へ続く\n",
        "DNNの訓練において、過学習を防ぐための方法や訓練の高速化のための手法を学ぶ\n",
        "・DataAugmentation\n",
        "・Optimizer(SGD, RMSProp, Adamなど)"
      ]
    },
    {
      "cell_type": "code",
      "metadata": {
        "id": "rSyRJZ_98CSu",
        "colab_type": "code",
        "colab": {}
      },
      "source": [
        ""
      ],
      "execution_count": 0,
      "outputs": []
    }
  ]
}